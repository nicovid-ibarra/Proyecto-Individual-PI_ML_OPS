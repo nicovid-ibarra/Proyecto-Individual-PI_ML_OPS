{
 "cells": [
  {
   "cell_type": "markdown",
   "metadata": {},
   "source": [
    "# Proyecto Individual 1"
   ]
  },
  {
   "cell_type": "markdown",
   "metadata": {},
   "source": [
    "## Parte 1 EDA"
   ]
  },
  {
   "cell_type": "markdown",
   "metadata": {},
   "source": [
    "Se importan galerias a utilizar"
   ]
  },
  {
   "cell_type": "code",
   "execution_count": null,
   "metadata": {},
   "outputs": [],
   "source": [
    "import pandas as pd\n",
    "import numpy as np\n",
    "import json\n",
    "from sklearn.metrics.pairwise import cosine_similarity\n",
    "from sklearn.feature_extraction.text import TfidfVectorizer\n",
    "import random\n",
    "import os\n",
    "from sklearn.metrics.pairwise import linear_kernel\n"
   ]
  },
  {
   "cell_type": "markdown",
   "metadata": {},
   "source": [
    "Como primer paso se carga el dataset de reviews y se analiza el dataframe, viendo columnas, nulos, forma, tamaños"
   ]
  },
  {
   "cell_type": "code",
   "execution_count": null,
   "metadata": {},
   "outputs": [],
   "source": [
    "# Se crea una lista en la que guardaremos diccionarios\n",
    "linea_dicc = []\n",
    "\n",
    "# Se abre y carga el archivo linea a linea (tiene problemas de forma)\n",
    "with open('src/data/australian_user_reviews.json', 'r', encoding='utf-8') as a:\n",
    "    for num_linea, linea in enumerate(a, start=1):\n",
    "            data = eval(linea)\n",
    "            linea_dicc.append(data)\n",
    "\n",
    "# Finalmente se carga los datos a un dataframe y se imprimen los resultados\n",
    "reviews = pd.DataFrame(linea_dicc)\n",
    "#Hay 25799 registros, en 3 columnas\n",
    "reviews.head()"
   ]
  },
  {
   "cell_type": "code",
   "execution_count": null,
   "metadata": {},
   "outputs": [],
   "source": [
    "reviews['reviews'][1]#Se observa la composicion de la columna reviews, que esta anidada"
   ]
  },
  {
   "cell_type": "code",
   "execution_count": null,
   "metadata": {},
   "outputs": [],
   "source": [
    "reviews.isna().sum().sort_values(ascending=False)#No hay datos nulos"
   ]
  },
  {
   "cell_type": "markdown",
   "metadata": {},
   "source": [
    "Se realiza la carga del dataset de juegos y se analiza el resultado:"
   ]
  },
  {
   "cell_type": "code",
   "execution_count": null,
   "metadata": {},
   "outputs": [],
   "source": [
    "#Se carga el dataframe de los juegos de steam y se imprime el resultado\n",
    "juegos = pd.read_json('src/data/output_steam_games.json', lines=True)\n",
    "juegos.head()\n",
    "#Tiene 120445 datos"
   ]
  },
  {
   "cell_type": "code",
   "execution_count": null,
   "metadata": {},
   "outputs": [],
   "source": [
    "juegos.isna().sum().sort_values(ascending=False) #Hay muchisimos datos nulos"
   ]
  },
  {
   "cell_type": "markdown",
   "metadata": {},
   "source": [
    "Se carga y analiza el dataset de usuarios y se examina el resultado"
   ]
  },
  {
   "cell_type": "code",
   "execution_count": null,
   "metadata": {},
   "outputs": [],
   "source": [
    "import gzip"
   ]
  },
  {
   "cell_type": "code",
   "execution_count": null,
   "metadata": {},
   "outputs": [],
   "source": [
    "# Se crea una lista en la que guardaremos diccionarios\n",
    "linea_dicc = []\n",
    "\n",
    "# Se abre y carga el archivo linea a linea (tiene problemas de forma)\n",
    "with gzip.open('src/data/users_items.json.gz', 'rt', encoding='utf-8') as a:\n",
    "    for num_linea, linea in enumerate(a, start=1):\n",
    "            data = eval(linea)\n",
    "            linea_dicc.append(data)\n",
    "\n",
    "# Finalmente se carga los datos a un dataframe y se imprimen los resultados\n",
    "items = pd.DataFrame(linea_dicc)\n",
    "items.head()\n",
    "#88310 filas"
   ]
  },
  {
   "cell_type": "code",
   "execution_count": null,
   "metadata": {},
   "outputs": [],
   "source": [
    "items['items'][1]#Se examina la columna anidada"
   ]
  },
  {
   "cell_type": "code",
   "execution_count": null,
   "metadata": {},
   "outputs": [],
   "source": [
    "items.isna().sum().sort_values(ascending=False) #No hay datos nulos"
   ]
  },
  {
   "cell_type": "markdown",
   "metadata": {},
   "source": [
    "# Parte 2 ETL"
   ]
  },
  {
   "cell_type": "markdown",
   "metadata": {},
   "source": [
    "### Reviews"
   ]
  },
  {
   "cell_type": "markdown",
   "metadata": {},
   "source": [
    "La columna reviews tiene los datos anidados, se procede a separarlos en columnas e integrarlo al dataframe reviews_sinuser, tambien se reemplaza '' por nan"
   ]
  },
  {
   "cell_type": "code",
   "execution_count": null,
   "metadata": {},
   "outputs": [],
   "source": [
    "df_exploded = reviews.explode('reviews') #se separa en filas distintas cada review\n",
    "df_normalized = pd.json_normalize(df_exploded['reviews'])#se separa en columnas la columna anidada\n",
    "df_normalized.head()\n"
   ]
  },
  {
   "cell_type": "code",
   "execution_count": null,
   "metadata": {},
   "outputs": [],
   "source": [
    "df_exploded.reset_index(drop=True, inplace=True)#reseteamos indices\n",
    "df_normalized.reset_index(drop=True, inplace=True)"
   ]
  },
  {
   "cell_type": "code",
   "execution_count": null,
   "metadata": {},
   "outputs": [],
   "source": [
    "# Combinar con el DataFrame original\n",
    "reviews_f = pd.concat([df_exploded, df_normalized], axis=1).drop('reviews', axis=1)\n",
    "# Mostrar el DataFrame resultante\n",
    "reviews_f.head()"
   ]
  },
  {
   "cell_type": "code",
   "execution_count": null,
   "metadata": {},
   "outputs": [],
   "source": [
    "reviews_f['funny'] = reviews_f['funny'].replace('', np.nan)"
   ]
  },
  {
   "cell_type": "code",
   "execution_count": null,
   "metadata": {},
   "outputs": [],
   "source": [
    "reviews_f['last_edited'] = reviews_f['last_edited'].replace('', np.nan)"
   ]
  },
  {
   "cell_type": "code",
   "execution_count": null,
   "metadata": {},
   "outputs": [],
   "source": [
    "reviews_f.head()#resultado"
   ]
  },
  {
   "cell_type": "code",
   "execution_count": null,
   "metadata": {},
   "outputs": [],
   "source": [
    "reviews_final=reviews_f.drop_duplicates()#elimino duplicados quedando 58459 datos de 59333.\n",
    "reviews_final.info()"
   ]
  },
  {
   "cell_type": "code",
   "execution_count": null,
   "metadata": {},
   "outputs": [],
   "source": [
    "from textblob import TextBlob #se importa esta libreria para hacer el analisis de sentimineto"
   ]
  },
  {
   "cell_type": "code",
   "execution_count": null,
   "metadata": {},
   "outputs": [],
   "source": [
    "def classify_sentiment(text):\n",
    "    if isinstance(text, str):  # Comprueba si el valor es una cadena\n",
    "        analysis = TextBlob(text)\n",
    "        polarity = analysis.sentiment.polarity\n",
    "\n",
    "        # Clasificar según la polaridad\n",
    "        if polarity < -0.1:\n",
    "            return 0  # Reseña mala\n",
    "        elif polarity > 0:\n",
    "            return 2  # Reseña positiva\n",
    "        else:\n",
    "            return 1  # Reseña neutra\n",
    "    else:\n",
    "        return np.nan  # Devuelve NaN si el valor no es una cadena\n",
    "\n",
    "# Aplicar la función a la columna 'review' y guardar los resultados en la nueva columna 'sentiment_analysis'\n",
    "reviews_final['review'] = reviews_final['review'].apply(classify_sentiment)\n"
   ]
  },
  {
   "cell_type": "code",
   "execution_count": null,
   "metadata": {},
   "outputs": [],
   "source": [
    "reviews_final.head()"
   ]
  },
  {
   "cell_type": "code",
   "execution_count": null,
   "metadata": {},
   "outputs": [],
   "source": [
    "counts = reviews_final['review'].value_counts() #cuento cuantos review de cada categoria hay\n",
    "print(counts)"
   ]
  },
  {
   "cell_type": "code",
   "execution_count": null,
   "metadata": {},
   "outputs": [],
   "source": [
    "counts2 = reviews_final['recommend'].value_counts() #cuento cuantos review de cada categoria hay: hay mas positivas\n",
    "print(counts2)"
   ]
  },
  {
   "cell_type": "markdown",
   "metadata": {},
   "source": [
    "### Juegos"
   ]
  },
  {
   "cell_type": "markdown",
   "metadata": {},
   "source": [
    "Al dataframe juegos se eliminan nulos, duplicados y ciertas columnas"
   ]
  },
  {
   "cell_type": "code",
   "execution_count": null,
   "metadata": {},
   "outputs": [],
   "source": [
    "juegos.head()"
   ]
  },
  {
   "cell_type": "code",
   "execution_count": null,
   "metadata": {},
   "outputs": [],
   "source": [
    "juegos1=juegos.dropna(how='all') #Se eliminan las filas que no tienen ningun registro, quedando 32135 registros"
   ]
  },
  {
   "cell_type": "code",
   "execution_count": null,
   "metadata": {},
   "outputs": [],
   "source": [
    "juegos1=juegos1.drop_duplicates(subset=['id'])#elimino los juegos duplicados, basandome en el id, solo se eliminan 2 quedando 32133 juegos"
   ]
  },
  {
   "cell_type": "code",
   "execution_count": null,
   "metadata": {},
   "outputs": [],
   "source": [
    "juegos1=juegos1.drop(['title','url','tags','reviews_url','publisher'], axis=1)"
   ]
  },
  {
   "cell_type": "code",
   "execution_count": null,
   "metadata": {},
   "outputs": [],
   "source": [
    "juegos1.info()"
   ]
  },
  {
   "cell_type": "markdown",
   "metadata": {},
   "source": [
    "### items"
   ]
  },
  {
   "cell_type": "markdown",
   "metadata": {},
   "source": [
    "Al data frame items se le eliminan duplicados y algunas columnas, posteriormente se desanida la columna items"
   ]
  },
  {
   "cell_type": "code",
   "execution_count": null,
   "metadata": {},
   "outputs": [],
   "source": [
    "items1=items.drop_duplicates(subset=['user_id'])#elimino los usuarios duplicados, basandome en el id\n",
    "##quedan 87626 datos de 88310"
   ]
  },
  {
   "cell_type": "code",
   "execution_count": null,
   "metadata": {},
   "outputs": [],
   "source": [
    "items1=items1.drop(['user_url','steam_id'],axis=1)\n",
    "items1.head()"
   ]
  },
  {
   "cell_type": "code",
   "execution_count": null,
   "metadata": {},
   "outputs": [],
   "source": [
    "df_list = []\n",
    "\n",
    "# Iterar a través de cada fila del DataFrame y aplicar el proceso de normalización\n",
    "for index, row in items1.iterrows():\n",
    "    df_normalized = pd.json_normalize(row['items'])\n",
    "    if not df_normalized.empty:\n",
    "        df_combined = pd.concat([pd.DataFrame(row).transpose()] * len(df_normalized), ignore_index=True)\n",
    "        df_combined = pd.concat([df_combined, df_normalized], axis=1)\n",
    "        df_list.append(df_combined)\n",
    "\n",
    "# Combinar los DataFrames resultantes en uno solo si hay elementos en df_list\n",
    "if df_list:\n",
    "    df_final = pd.concat(df_list, ignore_index=True)\n",
    "    # Mostrar el DataFrame resultante\n",
    "    print(df_final)\n",
    "else:\n",
    "    print(\"No se generaron DataFrames para concatenar.\")\n",
    "\n"
   ]
  },
  {
   "cell_type": "code",
   "execution_count": null,
   "metadata": {},
   "outputs": [],
   "source": [
    "items_fin=df_final.drop('items',axis=1)"
   ]
  },
  {
   "cell_type": "code",
   "execution_count": null,
   "metadata": {},
   "outputs": [],
   "source": [
    "items_fin.head()"
   ]
  },
  {
   "cell_type": "code",
   "execution_count": null,
   "metadata": {},
   "outputs": [],
   "source": [
    "items_fin_sin_0= items_fin[items_fin['playtime_forever'] != 0]#se eliminan las filas en que el usuario no jugo \n",
    "#quedan 3246352 de 5094082 "
   ]
  },
  {
   "cell_type": "code",
   "execution_count": null,
   "metadata": {},
   "outputs": [],
   "source": [
    "items_fin_sin_0.reset_index(drop=True, inplace=True)\n"
   ]
  },
  {
   "cell_type": "code",
   "execution_count": null,
   "metadata": {},
   "outputs": [],
   "source": [
    "juegos1.reset_index(drop=True, inplace=True)"
   ]
  },
  {
   "cell_type": "code",
   "execution_count": null,
   "metadata": {},
   "outputs": [],
   "source": [
    "reviews_final.reset_index(drop=True, inplace=True)"
   ]
  },
  {
   "cell_type": "markdown",
   "metadata": {},
   "source": [
    "## Parte 3 tratamiento outliers"
   ]
  },
  {
   "cell_type": "code",
   "execution_count": null,
   "metadata": {},
   "outputs": [],
   "source": [
    "import matplotlib.pyplot as plt\n",
    "import seaborn as sns"
   ]
  },
  {
   "cell_type": "code",
   "execution_count": null,
   "metadata": {},
   "outputs": [],
   "source": [
    "sns.distplot(items_fin_sin_0['playtime_forever'], hist=True, kde=True, rug=True) #Se observa la distribucion y se ve que claramente muchos juegos se han jugado poco\n"
   ]
  },
  {
   "cell_type": "code",
   "execution_count": null,
   "metadata": {},
   "outputs": [],
   "source": [
    "plt.figure(figsize=(8, 6))\n",
    "#En el boxplot se pueden observar los cuartiles, pero en este caso debido.. \n",
    "#a la gran aglomeracion en las pocas horas jugadas hace que el boxplot se vea como una linea\n",
    "sns.boxplot(x=items_fin_sin_0['playtime_forever'])\n",
    "plt.title('Diagrama de caja para observar outliers')\n",
    "plt.show()"
   ]
  },
  {
   "cell_type": "code",
   "execution_count": null,
   "metadata": {},
   "outputs": [],
   "source": [
    "Q1 = items_fin_sin_0['playtime_forever'].quantile(0.25)\n",
    "Q3 = items_fin_sin_0['playtime_forever'].quantile(0.75)\n",
    "IQR = Q3 - Q1\n",
    "print(Q1,Q3,IQR)"
   ]
  },
  {
   "cell_type": "code",
   "execution_count": null,
   "metadata": {},
   "outputs": [],
   "source": [
    "# Definir límites para detectar outliers\n",
    "lower_limit = Q1 - 1.5 * IQR\n",
    "upper_limit = Q3 + 1.5* IQR\n",
    "print (lower_limit, upper_limit)\n",
    "#El resultado de los limites (-1102,1954) se los va a modificar, debido a que el minimo de hs jugadas debe ser 0 y el maximo de hs jugadas podria ser mayor\n",
    "#Se utilizara minimo 0, max=5hs/dia*60min*365dias=109500  (se toma un valor que considero extremo[4hs/dia durante un año])"
   ]
  },
  {
   "cell_type": "code",
   "execution_count": null,
   "metadata": {},
   "outputs": [],
   "source": [
    "# Filtrar outliers\n",
    "lower_limit=0\n",
    "upper_limit=109500\n",
    "items_fin_filtered = items_fin_sin_0[(items_fin_sin_0['playtime_forever'] > lower_limit) & (items_fin_sin_0['playtime_forever'] < upper_limit)]"
   ]
  },
  {
   "cell_type": "code",
   "execution_count": null,
   "metadata": {},
   "outputs": [],
   "source": [
    "#se desanida columna gebre\n",
    "genero=juegos1.explode('genres')\n",
    "genero=genero.explode('specs')\n",
    "genero = genero.rename(columns={'id': 'item_id'})\n",
    "genero.head()"
   ]
  },
  {
   "cell_type": "markdown",
   "metadata": {},
   "source": [
    "## Parte 4 Funciones"
   ]
  },
  {
   "cell_type": "markdown",
   "metadata": {},
   "source": [
    "### Funcion 1"
   ]
  },
  {
   "cell_type": "markdown",
   "metadata": {},
   "source": [
    "Debe devolver año con mas horas jugadas para dicho género.\n",
    "Primero se crean los df necesarios y se los une, luego se crea la funcion "
   ]
  },
  {
   "cell_type": "code",
   "execution_count": null,
   "metadata": {},
   "outputs": [],
   "source": [
    "funcion1i=['item_id','playtime_forever']\n",
    "funcion1g=['genres','release_date','item_id']\n",
    "df1=items_fin_sin_0[funcion1i]\n",
    "df11=genero[funcion1g]"
   ]
  },
  {
   "cell_type": "code",
   "execution_count": null,
   "metadata": {},
   "outputs": [],
   "source": [
    "df1['item_id'] = pd.to_numeric(df1['item_id'], errors='coerce').fillna(0).astype(int)\n",
    "df11['item_id'] = pd.to_numeric(df11['item_id'], errors='coerce').fillna(0).astype(int)\n",
    "#por problemas en el formato de la columna item_id, hay que pasarlo a int para lograr el merge"
   ]
  },
  {
   "cell_type": "code",
   "execution_count": null,
   "metadata": {},
   "outputs": [],
   "source": [
    "# Fusionar DataFrames después de convertir los tipos de datos\n",
    "funcion_1 = pd.merge(df1, df11, on='item_id')"
   ]
  },
  {
   "cell_type": "code",
   "execution_count": null,
   "metadata": {},
   "outputs": [],
   "source": [
    "import re\n",
    "# Crear una función para extraer el año \n",
    "def obtener_anio(fecha):\n",
    "    if fecha is not None:\n",
    "        match = re.search(r'\\d{4}', str(fecha))  # Convierte fecha a cadena y luego busca el patrón de cuatro dígitos que represente el año\n",
    "        if match:\n",
    "            return match.group()\n",
    "        else:\n",
    "            return 'Formato de fecha no válido'\n",
    "    else:\n",
    "        return 'Valor nulo'\n",
    "\n",
    "# Aplicar la función a la columna 'fecha' y almacenar los resultados en una nueva columna 'anio'\n",
    "funcion_1['release_date'] = funcion_1['release_date'].apply(obtener_anio)"
   ]
  },
  {
   "cell_type": "code",
   "execution_count": null,
   "metadata": {},
   "outputs": [],
   "source": [
    "funcion_1.reset_index(drop=True, inplace=True)"
   ]
  },
  {
   "cell_type": "code",
   "execution_count": null,
   "metadata": {},
   "outputs": [],
   "source": [
    "def PlayTimeGenre(genero):\n",
    "    data_genero = funcion_1[funcion_1['genres'] == genero]  # Filtrar el DataFrame por el género especificado\n",
    "    data_genero_agrupado = data_genero.groupby('release_date')['playtime_forever'].sum()  # Calcular el tiempo total jugado por año\n",
    "    anio_max_tiempo = data_genero_agrupado.idxmax()  # Encontrar el año con el tiempo máximo\n",
    "    return anio_max_tiempo"
   ]
  },
  {
   "cell_type": "code",
   "execution_count": null,
   "metadata": {},
   "outputs": [],
   "source": [
    "a=PlayTimeGenre('Action')\n",
    "a"
   ]
  },
  {
   "cell_type": "markdown",
   "metadata": {},
   "source": [
    "### Funcion 2"
   ]
  },
  {
   "cell_type": "markdown",
   "metadata": {},
   "source": [
    "Debe devolver el usuario que acumula más horas jugadas para el género dado y una lista de la acumulación de horas jugadas por año.\n",
    "Primero se crean los df necesarios y se los une, finalmente se crea la funcion"
   ]
  },
  {
   "cell_type": "code",
   "execution_count": null,
   "metadata": {},
   "outputs": [],
   "source": [
    "juegos1.head()"
   ]
  },
  {
   "cell_type": "code",
   "execution_count": null,
   "metadata": {},
   "outputs": [],
   "source": [
    "#Hago una transformacion del formato fecha\n",
    "reviews_final['posted'] = reviews_final['posted'].apply(obtener_anio)\n",
    "reviews_final = reviews_final[reviews_final['posted'] != 'Formato de fecha no válido'] \n",
    "reviews_final['posted'] = pd.to_datetime(reviews_final['posted']) \n",
    "\n",
    "\n",
    "\n",
    "#Hago una transformacion del formato de item_id\n",
    "genero['item_id'] = pd.to_numeric(genero['item_id'], errors='coerce').fillna(0).astype(int)\n",
    "reviews_final['item_id'] = pd.to_numeric(reviews_final['item_id'], errors='coerce').fillna(0).astype(int)\n",
    "items_fin_filtered['item_id'] = pd.to_numeric(items_fin_filtered['item_id'], errors='coerce').fillna(0).astype(int)\n",
    "juegos1.rename(columns={'id': 'item_id'}, inplace=True)\n",
    "juegos1['item_id'] = pd.to_numeric(juegos1['item_id'], errors='coerce').fillna(0).astype(int)"
   ]
  },
  {
   "cell_type": "code",
   "execution_count": null,
   "metadata": {},
   "outputs": [],
   "source": [
    "#Genero los df que necesito\n",
    "funcion2g=['genres','item_id']\n",
    "funcion2r=['posted','user_id']\n",
    "funcion2i=['user_id','item_id','playtime_forever']\n",
    "dfg=genero[funcion2g]\n",
    "dfr=reviews_final[funcion2r]\n",
    "dfi=items_fin_filtered[funcion2i]"
   ]
  },
  {
   "cell_type": "code",
   "execution_count": null,
   "metadata": {},
   "outputs": [],
   "source": [
    "# Unir los dos primeros dataframes\n",
    "merged_df_intermediate = dfr.merge(dfi, on='user_id')\n",
    "# Unir el dataframe resultante con el tercer dataframe\n",
    "funcion_2 = merged_df_intermediate.merge(dfg, on='item_id')\n",
    "# Mostrar el dataframe resultante\n",
    "funcion_2.info()"
   ]
  },
  {
   "cell_type": "code",
   "execution_count": null,
   "metadata": {},
   "outputs": [],
   "source": [
    "#Elimino duplicados y los nulos\n",
    "df_no_duplicates = funcion_2.drop_duplicates(subset=['user_id', 'item_id', 'playtime_forever', 'genres'], keep='first')\n",
    "funcion2= df_no_duplicates.dropna(subset=['posted'])"
   ]
  },
  {
   "cell_type": "code",
   "execution_count": null,
   "metadata": {},
   "outputs": [],
   "source": [
    "funcion2.reset_index(drop=True, inplace=True)"
   ]
  },
  {
   "cell_type": "code",
   "execution_count": null,
   "metadata": {},
   "outputs": [],
   "source": [
    "def UserForGenre(genero):\n",
    "    funcion2['posted'] = pd.to_datetime(funcion2['posted'])  # Convertir 'posted' a tipo datetime\n",
    "    df_filtered = funcion2[funcion2['genres'] == genero]\n",
    "    max_hours_user = df_filtered.groupby('user_id')['playtime_forever'].sum().idxmax()\n",
    "    acumulacion_por_anio = df_filtered.groupby(df_filtered['posted'].dt.year)['playtime_forever'].sum().tolist()\n",
    "    return max_hours_user, acumulacion_por_anio"
   ]
  },
  {
   "cell_type": "code",
   "execution_count": null,
   "metadata": {},
   "outputs": [],
   "source": [
    "# Pruebo la funcion\n",
    "genero_dado = 'Adventure'\n",
    "resultado = UserForGenre(genero_dado)"
   ]
  },
  {
   "cell_type": "markdown",
   "metadata": {},
   "source": [
    "## Funcion 3"
   ]
  },
  {
   "cell_type": "markdown",
   "metadata": {},
   "source": [
    "Devuelve el top 3 de juegos MÁS recomendados por usuarios para el año dado. (reviews.recommend = True y comentarios positivos/neutrales)"
   ]
  },
  {
   "cell_type": "code",
   "execution_count": null,
   "metadata": {},
   "outputs": [],
   "source": [
    "#Genero los df que necesito\n",
    "funcion3r=['posted','item_id','recommend','review']\n",
    "funcion3j=['app_name','item_id']\n",
    "df3r=reviews_final[funcion3r]\n",
    "df3j=juegos1[funcion3j]\n"
   ]
  },
  {
   "cell_type": "code",
   "execution_count": null,
   "metadata": {},
   "outputs": [],
   "source": [
    "funcion_3 = df3r.merge(df3j, on='item_id')\n",
    "funcion_3['score'] = ''\n",
    "# Mostrar el dataframe resultante\n",
    "funcion_3.head()"
   ]
  },
  {
   "cell_type": "code",
   "execution_count": null,
   "metadata": {},
   "outputs": [],
   "source": [
    "def UsersRecommend(year):\n",
    "    funcion_3['score'] = 0\n",
    "    #Se realiza un sistema de puntajes para evitar el sesgo por popularidad de un juego, el cual tendria muchos\n",
    "    #positivos pero probablemente muchos negativos, pudiendo aparecer en los mas recomendados y en los menos al mismo tiempo\n",
    "    for index, row in funcion_3.iterrows():\n",
    "        if row['recommend']:\n",
    "            funcion_3.at[index, 'score'] += 1\n",
    "        else:\n",
    "            funcion_3.at[index, 'score'] -= 1\n",
    "        if row['review'] == 2:\n",
    "            funcion_3.at[index, 'score'] += 1\n",
    "        elif row['review'] == 0:\n",
    "            funcion_3.at[index, 'score'] -= 1\n",
    "    funcion_3_filtered = funcion_3[funcion_3['posted'].dt.year == year]\n",
    "    ranking = funcion_3_filtered.groupby('app_name')['score'].sum().nlargest(3).reset_index()\n",
    "    return  ranking"
   ]
  },
  {
   "cell_type": "code",
   "execution_count": null,
   "metadata": {},
   "outputs": [],
   "source": [
    "#Prueba\n",
    "resultado = UsersRecommend(2015)\n",
    "resultado"
   ]
  },
  {
   "cell_type": "markdown",
   "metadata": {},
   "source": [
    "## Funcion 4"
   ]
  },
  {
   "cell_type": "markdown",
   "metadata": {},
   "source": [
    "Devuelve el top 3 de juegos MENOS recomendados por usuarios para el año dado. (reviews.recommend = False y comentarios negativos)"
   ]
  },
  {
   "cell_type": "code",
   "execution_count": null,
   "metadata": {},
   "outputs": [],
   "source": [
    "def UsersNotRecommend(year):\n",
    "    funcion_3['score'] = 0\n",
    "    #Se realiza un sistema de puntajes para evitar el sesgo por popularidad de un juego, el cual tendria muchos\n",
    "    #positivos pero probablemente muchos negativos, pudiendo aparecer en los mas recomendados y en los menos al mismo tiempo\n",
    "    for index, row in funcion_3.iterrows():\n",
    "        if row['recommend']:\n",
    "            funcion_3.at[index, 'score'] += 1\n",
    "        else:\n",
    "            funcion_3.at[index, 'score'] -= 1\n",
    "        if row['review'] == 2:\n",
    "            funcion_3.at[index, 'score'] += 1\n",
    "        elif row['review'] == 0:\n",
    "            funcion_3.at[index, 'score'] -= 1\n",
    "    funcion_3['posted'] = pd.to_datetime(funcion_3['posted'])\n",
    "    funcion_4_filtered = funcion_3[funcion_3['posted'].dt.year == year]\n",
    "    ranking = funcion_4_filtered.groupby('app_name')['score'].sum().nsmallest(3).reset_index()\n",
    "    return  ranking"
   ]
  },
  {
   "cell_type": "code",
   "execution_count": null,
   "metadata": {},
   "outputs": [],
   "source": [
    "r=UsersNotRecommend(2015)\n",
    "r"
   ]
  },
  {
   "cell_type": "markdown",
   "metadata": {},
   "source": [
    "## Funcion 5\n"
   ]
  },
  {
   "cell_type": "markdown",
   "metadata": {},
   "source": [
    "Según el año de lanzamiento, se devuelve una lista con la cantidad de registros de reseñas de usuarios que se encuentren categorizados con un análisis de sentimiento."
   ]
  },
  {
   "cell_type": "code",
   "execution_count": null,
   "metadata": {},
   "outputs": [],
   "source": [
    "#Se realiza el df con las columnas posted y review. Se utiliza posted y no release data por que esta mas relacionado\n",
    "# a la review en concreto a la que se le hace el sentimentanalysis\n",
    "df5=['posted','review']\n",
    "funcion_5=reviews_final[df5]"
   ]
  },
  {
   "cell_type": "code",
   "execution_count": null,
   "metadata": {},
   "outputs": [],
   "source": [
    "funcion_5.head()"
   ]
  },
  {
   "cell_type": "code",
   "execution_count": null,
   "metadata": {},
   "outputs": [],
   "source": [
    "#Se formula la funcion inicializando variables y sumando segun sea el caso\n",
    "def sentiment_analysis( año : int ): \n",
    "    Positivo=0\n",
    "    Negativo=0\n",
    "    Neutro=0\n",
    "    funcion_5['posted'] = funcion_5['posted'].str.split('-').str[0]\n",
    "    funcion_5_filtered = funcion_5[funcion_5['posted'] == año]\n",
    "    for index, row in funcion_5_filtered.iterrows():\n",
    "         if row['review'] == 2:\n",
    "            Positivo+=1\n",
    "         elif row['review'] == 0:\n",
    "            Negativo+=1\n",
    "         else:\n",
    "            Neutro+=1\n",
    "    return{'Positivos': Positivo,' Negativos': Negativo, ' Neutros': Neutro}"
   ]
  },
  {
   "cell_type": "code",
   "execution_count": null,
   "metadata": {},
   "outputs": [],
   "source": [
    "def sentiment_analysis(año: int): \n",
    "    Positivo = 0\n",
    "    Negativo = 0\n",
    "    Neutro = 0\n",
    "    funcion_5['posted'] = pd.to_datetime(funcion_5['posted'])\n",
    "    funcion_5_filtered = funcion_5[funcion_5['posted'].dt.year == año]\n",
    "    for index, row in funcion_5_filtered.iterrows():\n",
    "         if row['review'] == 2:\n",
    "            Positivo += 1\n",
    "         elif row['review'] == 0:\n",
    "            Negativo += 1\n",
    "         else:\n",
    "            Neutro += 1\n",
    "    return {'Positivos': Positivo, 'Negativos': Negativo, 'Neutros': Neutro}"
   ]
  },
  {
   "cell_type": "code",
   "execution_count": null,
   "metadata": {},
   "outputs": [],
   "source": [
    "a=sentiment_analysis(2014)\n",
    "a"
   ]
  },
  {
   "cell_type": "markdown",
   "metadata": {},
   "source": [
    "## Parte 5 Crear parquets\n"
   ]
  },
  {
   "cell_type": "markdown",
   "metadata": {},
   "source": [
    "Armo parquets's con posibles resultados de las funciones"
   ]
  },
  {
   "cell_type": "code",
   "execution_count": null,
   "metadata": {},
   "outputs": [],
   "source": [
    "#Armo dataframe con resultados y lo paso a csv\n",
    "#Armo df para aplicar funcion, eliminando none y accounting porq no tienen datos\n",
    "gen = genero['genres'].unique()\n",
    "gen = [x for x in gen if x!=None]\n",
    "gen = [x for x in gen if x!='Accounting']\n",
    "df_genero = pd.DataFrame(gen, columns=['Género'])\n",
    "#Aplico funcion\n",
    "df_genero['Año resultado'] = df_genero['Género'].apply(PlayTimeGenre)\n",
    "#Exporto\n",
    "ruta_carpeta = r'C:\\Users\\nicoi\\Desktop\\HENRY\\Henry data\\Fast Api\\datas'\n",
    "nombre_archivo = 'f1.parquet'\n",
    "ruta_completa = ruta_carpeta + nombre_archivo\n",
    "df_genero.to_parquet(ruta_completa, index=False)"
   ]
  },
  {
   "cell_type": "code",
   "execution_count": null,
   "metadata": {},
   "outputs": [],
   "source": [
    "df_genero.head()"
   ]
  },
  {
   "cell_type": "code",
   "execution_count": null,
   "metadata": {},
   "outputs": [],
   "source": [
    "#Armo dataframe con resultados y lo paso a csv\n",
    "#Armo df para aplicar funcion, eliminando none y accounting porq no tienen datos\n",
    "gen = genero['genres'].unique()\n",
    "gen = [x for x in gen if x!=None]\n",
    "gen = [x for x in gen if x!='Accounting']\n",
    "df_generos = pd.DataFrame(gen, columns=['Género'])\n",
    "#Aplico funcion\n",
    "df_generos['Usuario'] = df_generos['Género'].apply(PlayTimeGenre)\n",
    "#Aplico funcion\n",
    "df_generos[['usuario', 'hs por año']] = df_generos['Género'].apply(UserForGenre).apply(pd.Series)\n",
    "#Exporto\n",
    "ruta_carpeta = r'C:\\Users\\nicoi\\Desktop\\HENRY\\Henry data\\Fast Api\\datas'\n",
    "nombre_archivo = 'f2.parquet'\n",
    "ruta_completa = ruta_carpeta + nombre_archivo\n",
    "df_generos.to_parquet(ruta_completa, index=False)"
   ]
  },
  {
   "cell_type": "code",
   "execution_count": null,
   "metadata": {},
   "outputs": [],
   "source": [
    "df_generos.head()"
   ]
  },
  {
   "cell_type": "code",
   "execution_count": null,
   "metadata": {},
   "outputs": [],
   "source": [
    "#Se genera df de resultados\n",
    "años = funcion_3['posted'].unique()\n",
    "# Convertir la lista de fechas a una serie de Pandas\n",
    "serie_fechas = pd.Series(años)\n",
    "# Convertir la serie de Pandas a tipo datetime y extraer los años\n",
    "anios = pd.to_datetime(serie_fechas).dt.year\n",
    "# Convertir la serie de años en un DataFrame\n",
    "df_anios = pd.DataFrame(anios, columns=['posted'])\n",
    "df_anios = df_anios.sort_values('posted')\n",
    "df_anios = df_anios.reset_index(drop=True)\n",
    "#Se crea el df\n",
    "dataframes = []\n",
    "for index, row in df_anios.iterrows():\n",
    "    year = row['posted']\n",
    "    df_resultado = UsersRecommend(year)\n",
    "    df_resultado['Año'] = year  # Agregar la columna 'Año'\n",
    "    dataframes.append(df_resultado)\n",
    "\n",
    "# Combinar todos los DataFrames en uno solo\n",
    "f3 = pd.concat(dataframes, ignore_index=True)\n",
    "#Exporto\n",
    "ruta_carpeta = r'C:\\Users\\nicoi\\Desktop\\HENRY\\Henry data\\Fast Api\\datas'\n",
    "nombre_archivo = 'f3.parquet'\n",
    "ruta_completa = ruta_carpeta + nombre_archivo\n",
    "f3.to_parquet(ruta_completa, index=False)"
   ]
  },
  {
   "cell_type": "code",
   "execution_count": null,
   "metadata": {},
   "outputs": [],
   "source": [
    "f3.head()"
   ]
  },
  {
   "cell_type": "code",
   "execution_count": null,
   "metadata": {},
   "outputs": [],
   "source": [
    "#Se crea el df\n",
    "dataframes = []\n",
    "for index, row in df_anios.iterrows():\n",
    "    year = row['posted']\n",
    "    df_resultado = UsersNotRecommend(year)\n",
    "    df_resultado['Año'] = year  # Agregar la columna 'Año'\n",
    "    dataframes.append(df_resultado)\n",
    "\n",
    "# Combinar todos los DataFrames en uno solo\n",
    "f4 = pd.concat(dataframes, ignore_index=True)\n",
    "#Exporto\n",
    "ruta_carpeta = r'C:\\Users\\nicoi\\Desktop\\HENRY\\Henry data\\Fast Api\\datas'\n",
    "nombre_archivo = 'f4.parquet'\n",
    "ruta_completa = ruta_carpeta + nombre_archivo\n",
    "f4.to_parquet(ruta_completa, index=False)"
   ]
  },
  {
   "cell_type": "code",
   "execution_count": null,
   "metadata": {},
   "outputs": [],
   "source": [
    "f4.head()"
   ]
  },
  {
   "cell_type": "code",
   "execution_count": null,
   "metadata": {},
   "outputs": [],
   "source": [
    "dataframes = []\n",
    "for index, row in df_anios.iterrows():\n",
    "    year = row['posted']\n",
    "    df_resultado = sentiment_analysis(year)\n",
    "    df_resultado['Año'] = year  # Agregar la columna 'Año'\n",
    "    dataframes.append(df_resultado)\n",
    "    f5=pd.DataFrame(dataframes)\n",
    "#Exporto\n",
    "ruta_carpeta = r'C:\\Users\\nicoi\\Desktop\\HENRY\\Henry data\\Fast Api\\datas'\n",
    "nombre_archivo = 'f5.parquet'\n",
    "ruta_completa = ruta_carpeta + nombre_archivo\n",
    "f5.to_parquet(ruta_completa, index=False)\n",
    "    "
   ]
  },
  {
   "cell_type": "markdown",
   "metadata": {},
   "source": [
    "## Parte 6: Modelo de Machine Learning"
   ]
  },
  {
   "cell_type": "markdown",
   "metadata": {},
   "source": [
    "def recomendacion_juego( id de producto ): Ingresando el id de producto, deberíamos recibir una lista con 5 juegos recomendados similares al ingresado."
   ]
  },
  {
   "cell_type": "code",
   "execution_count": 117,
   "metadata": {},
   "outputs": [],
   "source": [
    "#Se eligen las columnas consideradas posiblemente utiles y se arman dfs\n",
    "rf=['user_id','funny','posted','item_id','helpful','recommend','review']\n",
    "iff=['user_id','item_id','item_name','playtime_forever']\n",
    "j=['genres','app_name','release_date','price','item_id','developer','specs']\n",
    "reviewf=reviews_final[rf]\n",
    "itemsf=items_fin_filtered[iff]\n",
    "juegosf=juegos1[j]\n",
    "merged_df = pd.merge(reviewf, itemsf, on=['user_id', 'item_id'])\n",
    "merged_df = pd.merge(merged_df, juegosf, on='item_id')"
   ]
  },
  {
   "cell_type": "code",
   "execution_count": 118,
   "metadata": {},
   "outputs": [
    {
     "data": {
      "text/plain": [
       "helpful\n",
       "No ratings yet                                      16919\n",
       "1 of 1 people (100%) found this review helpful       3829\n",
       "0 of 1 people (0%) found this review helpful         2170\n",
       "1 of 2 people (50%) found this review helpful        1383\n",
       "2 of 2 people (100%) found this review helpful       1076\n",
       "                                                    ...  \n",
       "91 of 128 people (71%) found this review helpful        1\n",
       "3 of 37 people (8%) found this review helpful           1\n",
       "12 of 41 people (29%) found this review helpful         1\n",
       "37 of 45 people (82%) found this review helpful         1\n",
       "21 of 34 people (62%) found this review helpful         1\n",
       "Name: count, Length: 874, dtype: int64"
      ]
     },
     "execution_count": 118,
     "metadata": {},
     "output_type": "execute_result"
    }
   ],
   "source": [
    "counts = merged_df['helpful'].value_counts()#Mas de la mitad de los datos 'no rating yet'.\n",
    "counts"
   ]
  },
  {
   "cell_type": "code",
   "execution_count": 119,
   "metadata": {},
   "outputs": [
    {
     "data": {
      "text/plain": [
       "genres\n",
       "Indie                        67958\n",
       "Action                       56076\n",
       "Casual                       35888\n",
       "Simulation                   34355\n",
       "Strategy                     32239\n",
       "Adventure                    31884\n",
       "RPG                          24019\n",
       "Free to Play                 10183\n",
       "Sports                        7537\n",
       "Massively Multiplayer         6194\n",
       "Racing                        5972\n",
       "Early Access                  5613\n",
       "Design &amp; Illustration     1110\n",
       "Web Publishing                 756\n",
       "Utilities                      750\n",
       "Animation &amp; Modeling       410\n",
       "Education                      287\n",
       "Software Training              197\n",
       "Photo Editing                  183\n",
       "Video Production               178\n",
       "Audio Production               148\n",
       "Accounting                       7\n",
       "Name: count, dtype: int64"
      ]
     },
     "execution_count": 119,
     "metadata": {},
     "output_type": "execute_result"
    }
   ],
   "source": [
    "counts1 = genero['genres'].value_counts()#evaluo esta columna para usarla en el momento de achicar el dataframe data\n",
    "counts1"
   ]
  },
  {
   "cell_type": "code",
   "execution_count": 120,
   "metadata": {},
   "outputs": [
    {
     "data": {
      "text/html": [
       "<div>\n",
       "<style scoped>\n",
       "    .dataframe tbody tr th:only-of-type {\n",
       "        vertical-align: middle;\n",
       "    }\n",
       "\n",
       "    .dataframe tbody tr th {\n",
       "        vertical-align: top;\n",
       "    }\n",
       "\n",
       "    .dataframe thead th {\n",
       "        text-align: right;\n",
       "    }\n",
       "</style>\n",
       "<table border=\"1\" class=\"dataframe\">\n",
       "  <thead>\n",
       "    <tr style=\"text-align: right;\">\n",
       "      <th></th>\n",
       "      <th>user_id</th>\n",
       "      <th>funny</th>\n",
       "      <th>posted</th>\n",
       "      <th>item_id</th>\n",
       "      <th>helpful</th>\n",
       "      <th>recommend</th>\n",
       "      <th>review</th>\n",
       "      <th>item_name</th>\n",
       "      <th>playtime_forever</th>\n",
       "      <th>genres</th>\n",
       "      <th>app_name</th>\n",
       "      <th>release_date</th>\n",
       "      <th>price</th>\n",
       "      <th>developer</th>\n",
       "      <th>specs</th>\n",
       "    </tr>\n",
       "  </thead>\n",
       "  <tbody>\n",
       "    <tr>\n",
       "      <th>0</th>\n",
       "      <td>76561197970982479</td>\n",
       "      <td>NaN</td>\n",
       "      <td>2011-01-01</td>\n",
       "      <td>1250</td>\n",
       "      <td>No ratings yet</td>\n",
       "      <td>True</td>\n",
       "      <td>2.0</td>\n",
       "      <td>Killing Floor</td>\n",
       "      <td>10006</td>\n",
       "      <td>[Action]</td>\n",
       "      <td>Killing Floor</td>\n",
       "      <td>2009-05-14</td>\n",
       "      <td>19.99</td>\n",
       "      <td>Tripwire Interactive</td>\n",
       "      <td>[Single-player, Multi-player, Co-op, Cross-Pla...</td>\n",
       "    </tr>\n",
       "    <tr>\n",
       "      <th>1</th>\n",
       "      <td>DJKamBer</td>\n",
       "      <td>NaN</td>\n",
       "      <td>2013-01-01</td>\n",
       "      <td>1250</td>\n",
       "      <td>No ratings yet</td>\n",
       "      <td>True</td>\n",
       "      <td>2.0</td>\n",
       "      <td>Killing Floor</td>\n",
       "      <td>2851</td>\n",
       "      <td>[Action]</td>\n",
       "      <td>Killing Floor</td>\n",
       "      <td>2009-05-14</td>\n",
       "      <td>19.99</td>\n",
       "      <td>Tripwire Interactive</td>\n",
       "      <td>[Single-player, Multi-player, Co-op, Cross-Pla...</td>\n",
       "    </tr>\n",
       "    <tr>\n",
       "      <th>2</th>\n",
       "      <td>diego9031</td>\n",
       "      <td>NaN</td>\n",
       "      <td>2015-01-01</td>\n",
       "      <td>1250</td>\n",
       "      <td>No ratings yet</td>\n",
       "      <td>True</td>\n",
       "      <td>1.0</td>\n",
       "      <td>Killing Floor</td>\n",
       "      <td>1204</td>\n",
       "      <td>[Action]</td>\n",
       "      <td>Killing Floor</td>\n",
       "      <td>2009-05-14</td>\n",
       "      <td>19.99</td>\n",
       "      <td>Tripwire Interactive</td>\n",
       "      <td>[Single-player, Multi-player, Co-op, Cross-Pla...</td>\n",
       "    </tr>\n",
       "    <tr>\n",
       "      <th>3</th>\n",
       "      <td>GamerFag</td>\n",
       "      <td>NaN</td>\n",
       "      <td>2010-01-01</td>\n",
       "      <td>1250</td>\n",
       "      <td>No ratings yet</td>\n",
       "      <td>True</td>\n",
       "      <td>2.0</td>\n",
       "      <td>Killing Floor</td>\n",
       "      <td>33723</td>\n",
       "      <td>[Action]</td>\n",
       "      <td>Killing Floor</td>\n",
       "      <td>2009-05-14</td>\n",
       "      <td>19.99</td>\n",
       "      <td>Tripwire Interactive</td>\n",
       "      <td>[Single-player, Multi-player, Co-op, Cross-Pla...</td>\n",
       "    </tr>\n",
       "    <tr>\n",
       "      <th>4</th>\n",
       "      <td>76561198092227136</td>\n",
       "      <td>NaN</td>\n",
       "      <td>2014-01-01</td>\n",
       "      <td>1250</td>\n",
       "      <td>No ratings yet</td>\n",
       "      <td>True</td>\n",
       "      <td>1.0</td>\n",
       "      <td>Killing Floor</td>\n",
       "      <td>8694</td>\n",
       "      <td>[Action]</td>\n",
       "      <td>Killing Floor</td>\n",
       "      <td>2009-05-14</td>\n",
       "      <td>19.99</td>\n",
       "      <td>Tripwire Interactive</td>\n",
       "      <td>[Single-player, Multi-player, Co-op, Cross-Pla...</td>\n",
       "    </tr>\n",
       "  </tbody>\n",
       "</table>\n",
       "</div>"
      ],
      "text/plain": [
       "             user_id funny     posted  item_id         helpful recommend  \\\n",
       "0  76561197970982479   NaN 2011-01-01     1250  No ratings yet      True   \n",
       "1           DJKamBer   NaN 2013-01-01     1250  No ratings yet      True   \n",
       "2          diego9031   NaN 2015-01-01     1250  No ratings yet      True   \n",
       "3           GamerFag   NaN 2010-01-01     1250  No ratings yet      True   \n",
       "4  76561198092227136   NaN 2014-01-01     1250  No ratings yet      True   \n",
       "\n",
       "   review      item_name  playtime_forever    genres       app_name  \\\n",
       "0     2.0  Killing Floor             10006  [Action]  Killing Floor   \n",
       "1     2.0  Killing Floor              2851  [Action]  Killing Floor   \n",
       "2     1.0  Killing Floor              1204  [Action]  Killing Floor   \n",
       "3     2.0  Killing Floor             33723  [Action]  Killing Floor   \n",
       "4     1.0  Killing Floor              8694  [Action]  Killing Floor   \n",
       "\n",
       "  release_date  price             developer  \\\n",
       "0   2009-05-14  19.99  Tripwire Interactive   \n",
       "1   2009-05-14  19.99  Tripwire Interactive   \n",
       "2   2009-05-14  19.99  Tripwire Interactive   \n",
       "3   2009-05-14  19.99  Tripwire Interactive   \n",
       "4   2009-05-14  19.99  Tripwire Interactive   \n",
       "\n",
       "                                               specs  \n",
       "0  [Single-player, Multi-player, Co-op, Cross-Pla...  \n",
       "1  [Single-player, Multi-player, Co-op, Cross-Pla...  \n",
       "2  [Single-player, Multi-player, Co-op, Cross-Pla...  \n",
       "3  [Single-player, Multi-player, Co-op, Cross-Pla...  \n",
       "4  [Single-player, Multi-player, Co-op, Cross-Pla...  "
      ]
     },
     "execution_count": 120,
     "metadata": {},
     "output_type": "execute_result"
    }
   ],
   "source": [
    "merged_df.head() #item_name y app_name es lo mismo"
   ]
  },
  {
   "cell_type": "code",
   "execution_count": 121,
   "metadata": {},
   "outputs": [
    {
     "name": "stdout",
     "output_type": "stream",
     "text": [
      "<class 'pandas.core.frame.DataFrame'>\n",
      "RangeIndex: 32535 entries, 0 to 32534\n",
      "Data columns (total 15 columns):\n",
      " #   Column            Non-Null Count  Dtype         \n",
      "---  ------            --------------  -----         \n",
      " 0   user_id           32535 non-null  object        \n",
      " 1   funny             4007 non-null   object        \n",
      " 2   posted            32535 non-null  datetime64[ns]\n",
      " 3   item_id           32535 non-null  int32         \n",
      " 4   helpful           32535 non-null  object        \n",
      " 5   recommend         32535 non-null  object        \n",
      " 6   review            32535 non-null  float64       \n",
      " 7   item_name         32535 non-null  object        \n",
      " 8   playtime_forever  32535 non-null  int64         \n",
      " 9   genres            31221 non-null  object        \n",
      " 10  app_name          32535 non-null  object        \n",
      " 11  release_date      31233 non-null  object        \n",
      " 12  price             32269 non-null  object        \n",
      " 13  developer         31155 non-null  object        \n",
      " 14  specs             32498 non-null  object        \n",
      "dtypes: datetime64[ns](1), float64(1), int32(1), int64(1), object(11)\n",
      "memory usage: 3.6+ MB\n"
     ]
    }
   ],
   "source": [
    "merged_df.info()#Se observan pocos datos en funny."
   ]
  },
  {
   "cell_type": "code",
   "execution_count": 122,
   "metadata": {},
   "outputs": [
    {
     "data": {
      "text/html": [
       "<div>\n",
       "<style scoped>\n",
       "    .dataframe tbody tr th:only-of-type {\n",
       "        vertical-align: middle;\n",
       "    }\n",
       "\n",
       "    .dataframe tbody tr th {\n",
       "        vertical-align: top;\n",
       "    }\n",
       "\n",
       "    .dataframe thead th {\n",
       "        text-align: right;\n",
       "    }\n",
       "</style>\n",
       "<table border=\"1\" class=\"dataframe\">\n",
       "  <thead>\n",
       "    <tr style=\"text-align: right;\">\n",
       "      <th></th>\n",
       "      <th>user_id</th>\n",
       "      <th>recommend</th>\n",
       "      <th>review</th>\n",
       "      <th>item_id</th>\n",
       "      <th>app_name</th>\n",
       "      <th>genres</th>\n",
       "      <th>release_date</th>\n",
       "      <th>posted</th>\n",
       "      <th>playtime_forever</th>\n",
       "    </tr>\n",
       "  </thead>\n",
       "  <tbody>\n",
       "    <tr>\n",
       "      <th>0</th>\n",
       "      <td>76561197970982479</td>\n",
       "      <td>True</td>\n",
       "      <td>2.0</td>\n",
       "      <td>1250</td>\n",
       "      <td>Killing Floor</td>\n",
       "      <td>[Action]</td>\n",
       "      <td>2009-05-14</td>\n",
       "      <td>2011-01-01</td>\n",
       "      <td>10006</td>\n",
       "    </tr>\n",
       "    <tr>\n",
       "      <th>1</th>\n",
       "      <td>DJKamBer</td>\n",
       "      <td>True</td>\n",
       "      <td>2.0</td>\n",
       "      <td>1250</td>\n",
       "      <td>Killing Floor</td>\n",
       "      <td>[Action]</td>\n",
       "      <td>2009-05-14</td>\n",
       "      <td>2013-01-01</td>\n",
       "      <td>2851</td>\n",
       "    </tr>\n",
       "    <tr>\n",
       "      <th>2</th>\n",
       "      <td>diego9031</td>\n",
       "      <td>True</td>\n",
       "      <td>1.0</td>\n",
       "      <td>1250</td>\n",
       "      <td>Killing Floor</td>\n",
       "      <td>[Action]</td>\n",
       "      <td>2009-05-14</td>\n",
       "      <td>2015-01-01</td>\n",
       "      <td>1204</td>\n",
       "    </tr>\n",
       "    <tr>\n",
       "      <th>3</th>\n",
       "      <td>GamerFag</td>\n",
       "      <td>True</td>\n",
       "      <td>2.0</td>\n",
       "      <td>1250</td>\n",
       "      <td>Killing Floor</td>\n",
       "      <td>[Action]</td>\n",
       "      <td>2009-05-14</td>\n",
       "      <td>2010-01-01</td>\n",
       "      <td>33723</td>\n",
       "    </tr>\n",
       "    <tr>\n",
       "      <th>4</th>\n",
       "      <td>76561198092227136</td>\n",
       "      <td>True</td>\n",
       "      <td>1.0</td>\n",
       "      <td>1250</td>\n",
       "      <td>Killing Floor</td>\n",
       "      <td>[Action]</td>\n",
       "      <td>2009-05-14</td>\n",
       "      <td>2014-01-01</td>\n",
       "      <td>8694</td>\n",
       "    </tr>\n",
       "  </tbody>\n",
       "</table>\n",
       "</div>"
      ],
      "text/plain": [
       "             user_id recommend  review  item_id       app_name    genres  \\\n",
       "0  76561197970982479      True     2.0     1250  Killing Floor  [Action]   \n",
       "1           DJKamBer      True     2.0     1250  Killing Floor  [Action]   \n",
       "2          diego9031      True     1.0     1250  Killing Floor  [Action]   \n",
       "3           GamerFag      True     2.0     1250  Killing Floor  [Action]   \n",
       "4  76561198092227136      True     1.0     1250  Killing Floor  [Action]   \n",
       "\n",
       "  release_date     posted  playtime_forever  \n",
       "0   2009-05-14 2011-01-01             10006  \n",
       "1   2009-05-14 2013-01-01              2851  \n",
       "2   2009-05-14 2015-01-01              1204  \n",
       "3   2009-05-14 2010-01-01             33723  \n",
       "4   2009-05-14 2014-01-01              8694  "
      ]
     },
     "execution_count": 122,
     "metadata": {},
     "output_type": "execute_result"
    }
   ],
   "source": [
    "#Se eliminan columnas innecesarias\n",
    "a=['user_id','recommend','review','item_id','app_name','genres','release_date','posted','playtime_forever']\n",
    "b=['genres','item_id','app_name','specs','developer']\n",
    "data= merged_df[a]\n",
    "datb=genero[b]\n",
    "data.head()"
   ]
  },
  {
   "cell_type": "code",
   "execution_count": 123,
   "metadata": {},
   "outputs": [
    {
     "name": "stdout",
     "output_type": "stream",
     "text": [
      "<class 'pandas.core.series.Series'>\n",
      "Index: 2150 entries, 730 to 307130\n",
      "Series name: count\n",
      "Non-Null Count  Dtype\n",
      "--------------  -----\n",
      "2150 non-null   int64\n",
      "dtypes: int64(1)\n",
      "memory usage: 25.2 KB\n"
     ]
    }
   ],
   "source": [
    "counts2 = data['item_id'].value_counts()#Hay 2150 juegos\n",
    "counts2.info()"
   ]
  },
  {
   "cell_type": "code",
   "execution_count": 124,
   "metadata": {},
   "outputs": [
    {
     "name": "stdout",
     "output_type": "stream",
     "text": [
      "<class 'pandas.core.frame.DataFrame'>\n",
      "Index: 338027 entries, 0 to 32132\n",
      "Data columns (total 5 columns):\n",
      " #   Column     Non-Null Count   Dtype \n",
      "---  ------     --------------   ----- \n",
      " 0   genres     321944 non-null  object\n",
      " 1   item_id    338027 non-null  int32 \n",
      " 2   app_name   338022 non-null  object\n",
      " 3   specs      337086 non-null  object\n",
      " 4   developer  320839 non-null  object\n",
      "dtypes: int32(1), object(4)\n",
      "memory usage: 14.2+ MB\n"
     ]
    }
   ],
   "source": [
    "datb.info() #Hay generos vacios"
   ]
  },
  {
   "cell_type": "code",
   "execution_count": 125,
   "metadata": {},
   "outputs": [],
   "source": [
    "datb=datb.dropna()\n",
    "datb = datb.drop_duplicates()"
   ]
  },
  {
   "cell_type": "code",
   "execution_count": 126,
   "metadata": {},
   "outputs": [],
   "source": [
    "#Se crea una funcion para agregar una columna score\n",
    "def UsersRecommendAllYears(data):\n",
    "    data['score'] = 0\n",
    "    # Se realiza un sistema de puntajes para evitar el sesgo por popularidad de un juego\n",
    "    for index, row in data.iterrows():\n",
    "        if row['recommend']:\n",
    "            data.at[index, 'score'] += 1\n",
    "        else:\n",
    "            data.at[index, 'score'] -= 1\n",
    "        if row['review'] == 2:\n",
    "            data.at[index, 'score'] += 1\n",
    "        elif row['review']==0:\n",
    "            data.at[index, 'score'] -= 1\n",
    "    # Agrupar por 'item_id' y sumar los valores de 'score'\n",
    "    data = data.groupby('item_id')['score'].sum().reset_index()\n",
    "    return data"
   ]
  },
  {
   "cell_type": "code",
   "execution_count": 127,
   "metadata": {},
   "outputs": [
    {
     "name": "stderr",
     "output_type": "stream",
     "text": [
      "C:\\TEMP\\ipykernel_9668\\3073876890.py:3: SettingWithCopyWarning: \n",
      "A value is trying to be set on a copy of a slice from a DataFrame.\n",
      "Try using .loc[row_indexer,col_indexer] = value instead\n",
      "\n",
      "See the caveats in the documentation: https://pandas.pydata.org/pandas-docs/stable/user_guide/indexing.html#returning-a-view-versus-a-copy\n",
      "  data['score'] = 0\n"
     ]
    }
   ],
   "source": [
    "#Se aplica la funcion y se suma la columna score al dataframe\n",
    "data2=UsersRecommendAllYears(data)\n",
    "data_final = pd.merge(data, data2, on='item_id')"
   ]
  },
  {
   "cell_type": "code",
   "execution_count": 128,
   "metadata": {},
   "outputs": [],
   "source": [
    "#Se elimina score x porq era un puntaje parcial, solo quiero el final para filtrar mas tarde\n",
    "data_final =data_final.drop(columns=['score_x'])\n",
    "#Se elimina app_name porq lo tengo en datb\n",
    "data_final =data_final.drop(columns=['app_name'])\n",
    "#Renombro columna\n",
    "data_final =data_final.rename(columns={'score_y': 'score'})\n"
   ]
  },
  {
   "cell_type": "code",
   "execution_count": 129,
   "metadata": {},
   "outputs": [
    {
     "data": {
      "text/html": [
       "<div>\n",
       "<style scoped>\n",
       "    .dataframe tbody tr th:only-of-type {\n",
       "        vertical-align: middle;\n",
       "    }\n",
       "\n",
       "    .dataframe tbody tr th {\n",
       "        vertical-align: top;\n",
       "    }\n",
       "\n",
       "    .dataframe thead th {\n",
       "        text-align: right;\n",
       "    }\n",
       "</style>\n",
       "<table border=\"1\" class=\"dataframe\">\n",
       "  <thead>\n",
       "    <tr style=\"text-align: right;\">\n",
       "      <th></th>\n",
       "      <th>user_id</th>\n",
       "      <th>recommend</th>\n",
       "      <th>review</th>\n",
       "      <th>item_id</th>\n",
       "      <th>genres</th>\n",
       "      <th>release_date</th>\n",
       "      <th>posted</th>\n",
       "      <th>playtime_forever</th>\n",
       "      <th>score</th>\n",
       "    </tr>\n",
       "  </thead>\n",
       "  <tbody>\n",
       "    <tr>\n",
       "      <th>0</th>\n",
       "      <td>76561197970982479</td>\n",
       "      <td>True</td>\n",
       "      <td>2.0</td>\n",
       "      <td>1250</td>\n",
       "      <td>[Action]</td>\n",
       "      <td>2009-05-14</td>\n",
       "      <td>2011-01-01</td>\n",
       "      <td>10006</td>\n",
       "      <td>336</td>\n",
       "    </tr>\n",
       "    <tr>\n",
       "      <th>1</th>\n",
       "      <td>DJKamBer</td>\n",
       "      <td>True</td>\n",
       "      <td>2.0</td>\n",
       "      <td>1250</td>\n",
       "      <td>[Action]</td>\n",
       "      <td>2009-05-14</td>\n",
       "      <td>2013-01-01</td>\n",
       "      <td>2851</td>\n",
       "      <td>336</td>\n",
       "    </tr>\n",
       "    <tr>\n",
       "      <th>2</th>\n",
       "      <td>diego9031</td>\n",
       "      <td>True</td>\n",
       "      <td>1.0</td>\n",
       "      <td>1250</td>\n",
       "      <td>[Action]</td>\n",
       "      <td>2009-05-14</td>\n",
       "      <td>2015-01-01</td>\n",
       "      <td>1204</td>\n",
       "      <td>336</td>\n",
       "    </tr>\n",
       "    <tr>\n",
       "      <th>3</th>\n",
       "      <td>GamerFag</td>\n",
       "      <td>True</td>\n",
       "      <td>2.0</td>\n",
       "      <td>1250</td>\n",
       "      <td>[Action]</td>\n",
       "      <td>2009-05-14</td>\n",
       "      <td>2010-01-01</td>\n",
       "      <td>33723</td>\n",
       "      <td>336</td>\n",
       "    </tr>\n",
       "    <tr>\n",
       "      <th>4</th>\n",
       "      <td>76561198092227136</td>\n",
       "      <td>True</td>\n",
       "      <td>1.0</td>\n",
       "      <td>1250</td>\n",
       "      <td>[Action]</td>\n",
       "      <td>2009-05-14</td>\n",
       "      <td>2014-01-01</td>\n",
       "      <td>8694</td>\n",
       "      <td>336</td>\n",
       "    </tr>\n",
       "  </tbody>\n",
       "</table>\n",
       "</div>"
      ],
      "text/plain": [
       "             user_id recommend  review  item_id    genres release_date  \\\n",
       "0  76561197970982479      True     2.0     1250  [Action]   2009-05-14   \n",
       "1           DJKamBer      True     2.0     1250  [Action]   2009-05-14   \n",
       "2          diego9031      True     1.0     1250  [Action]   2009-05-14   \n",
       "3           GamerFag      True     2.0     1250  [Action]   2009-05-14   \n",
       "4  76561198092227136      True     1.0     1250  [Action]   2009-05-14   \n",
       "\n",
       "      posted  playtime_forever  score  \n",
       "0 2011-01-01             10006    336  \n",
       "1 2013-01-01              2851    336  \n",
       "2 2015-01-01              1204    336  \n",
       "3 2010-01-01             33723    336  \n",
       "4 2014-01-01              8694    336  "
      ]
     },
     "execution_count": 129,
     "metadata": {},
     "output_type": "execute_result"
    }
   ],
   "source": [
    "data_final.head()"
   ]
  },
  {
   "cell_type": "code",
   "execution_count": 130,
   "metadata": {},
   "outputs": [],
   "source": [
    "ruta_carpeta = r'C:\\Users\\nicoi\\Desktop\\HENRY\\Henry data\\Fast Api\\datas\\\\'  # Asegúrate de incluir una barra diagonal adicional al final\n",
    "nombre_archivo = 'ml1.parquet'\n",
    "ruta_completa = os.path.join(ruta_carpeta, nombre_archivo)  # Usa os.path.join para manejar las rutas de forma segura\n",
    "# Guardar el DataFrame en formato Parquet\n",
    "data_final.to_parquet(ruta_completa, index=False)"
   ]
  },
  {
   "cell_type": "code",
   "execution_count": 131,
   "metadata": {},
   "outputs": [],
   "source": [
    "ruta_carpeta = r'C:\\Users\\nicoi\\Desktop\\HENRY\\Henry data\\Fast Api\\datas\\\\'  # Asegúrate de incluir una barra diagonal adicional al final\n",
    "nombre_archivo = 'ml2.parquet'\n",
    "ruta_completa = os.path.join(ruta_carpeta, nombre_archivo)  # Usa os.path.join para manejar las rutas de forma segura\n",
    "# Guardar el DataFrame en formato Parquet\n",
    "datb.to_parquet(ruta_completa, index=False)"
   ]
  },
  {
   "cell_type": "code",
   "execution_count": 132,
   "metadata": {},
   "outputs": [],
   "source": [
    "data_final=pd.read_parquet('src/datas/ml1.parquet')\n",
    "datb=pd.read_parquet('src/datas/ml2.parquet')\n"
   ]
  },
  {
   "cell_type": "code",
   "execution_count": 133,
   "metadata": {},
   "outputs": [
    {
     "data": {
      "text/html": [
       "<div>\n",
       "<style scoped>\n",
       "    .dataframe tbody tr th:only-of-type {\n",
       "        vertical-align: middle;\n",
       "    }\n",
       "\n",
       "    .dataframe tbody tr th {\n",
       "        vertical-align: top;\n",
       "    }\n",
       "\n",
       "    .dataframe thead th {\n",
       "        text-align: right;\n",
       "    }\n",
       "</style>\n",
       "<table border=\"1\" class=\"dataframe\">\n",
       "  <thead>\n",
       "    <tr style=\"text-align: right;\">\n",
       "      <th></th>\n",
       "      <th>user_id</th>\n",
       "      <th>recommend</th>\n",
       "      <th>review</th>\n",
       "      <th>item_id</th>\n",
       "      <th>genres</th>\n",
       "      <th>release_date</th>\n",
       "      <th>posted</th>\n",
       "      <th>playtime_forever</th>\n",
       "      <th>score</th>\n",
       "    </tr>\n",
       "  </thead>\n",
       "  <tbody>\n",
       "    <tr>\n",
       "      <th>0</th>\n",
       "      <td>76561197970982479</td>\n",
       "      <td>True</td>\n",
       "      <td>2.0</td>\n",
       "      <td>1250</td>\n",
       "      <td>[Action]</td>\n",
       "      <td>2009-05-14</td>\n",
       "      <td>2011-01-01</td>\n",
       "      <td>10006</td>\n",
       "      <td>336</td>\n",
       "    </tr>\n",
       "    <tr>\n",
       "      <th>1</th>\n",
       "      <td>DJKamBer</td>\n",
       "      <td>True</td>\n",
       "      <td>2.0</td>\n",
       "      <td>1250</td>\n",
       "      <td>[Action]</td>\n",
       "      <td>2009-05-14</td>\n",
       "      <td>2013-01-01</td>\n",
       "      <td>2851</td>\n",
       "      <td>336</td>\n",
       "    </tr>\n",
       "    <tr>\n",
       "      <th>2</th>\n",
       "      <td>diego9031</td>\n",
       "      <td>True</td>\n",
       "      <td>1.0</td>\n",
       "      <td>1250</td>\n",
       "      <td>[Action]</td>\n",
       "      <td>2009-05-14</td>\n",
       "      <td>2015-01-01</td>\n",
       "      <td>1204</td>\n",
       "      <td>336</td>\n",
       "    </tr>\n",
       "    <tr>\n",
       "      <th>3</th>\n",
       "      <td>GamerFag</td>\n",
       "      <td>True</td>\n",
       "      <td>2.0</td>\n",
       "      <td>1250</td>\n",
       "      <td>[Action]</td>\n",
       "      <td>2009-05-14</td>\n",
       "      <td>2010-01-01</td>\n",
       "      <td>33723</td>\n",
       "      <td>336</td>\n",
       "    </tr>\n",
       "    <tr>\n",
       "      <th>4</th>\n",
       "      <td>76561198092227136</td>\n",
       "      <td>True</td>\n",
       "      <td>1.0</td>\n",
       "      <td>1250</td>\n",
       "      <td>[Action]</td>\n",
       "      <td>2009-05-14</td>\n",
       "      <td>2014-01-01</td>\n",
       "      <td>8694</td>\n",
       "      <td>336</td>\n",
       "    </tr>\n",
       "  </tbody>\n",
       "</table>\n",
       "</div>"
      ],
      "text/plain": [
       "             user_id  recommend  review  item_id    genres release_date  \\\n",
       "0  76561197970982479       True     2.0     1250  [Action]   2009-05-14   \n",
       "1           DJKamBer       True     2.0     1250  [Action]   2009-05-14   \n",
       "2          diego9031       True     1.0     1250  [Action]   2009-05-14   \n",
       "3           GamerFag       True     2.0     1250  [Action]   2009-05-14   \n",
       "4  76561198092227136       True     1.0     1250  [Action]   2009-05-14   \n",
       "\n",
       "      posted  playtime_forever  score  \n",
       "0 2011-01-01             10006    336  \n",
       "1 2013-01-01              2851    336  \n",
       "2 2015-01-01              1204    336  \n",
       "3 2010-01-01             33723    336  \n",
       "4 2014-01-01              8694    336  "
      ]
     },
     "execution_count": 133,
     "metadata": {},
     "output_type": "execute_result"
    }
   ],
   "source": [
    "data_final.head()"
   ]
  },
  {
   "cell_type": "code",
   "execution_count": 134,
   "metadata": {},
   "outputs": [
    {
     "data": {
      "text/html": [
       "<div>\n",
       "<style scoped>\n",
       "    .dataframe tbody tr th:only-of-type {\n",
       "        vertical-align: middle;\n",
       "    }\n",
       "\n",
       "    .dataframe tbody tr th {\n",
       "        vertical-align: top;\n",
       "    }\n",
       "\n",
       "    .dataframe thead th {\n",
       "        text-align: right;\n",
       "    }\n",
       "</style>\n",
       "<table border=\"1\" class=\"dataframe\">\n",
       "  <thead>\n",
       "    <tr style=\"text-align: right;\">\n",
       "      <th></th>\n",
       "      <th>genres</th>\n",
       "      <th>item_id</th>\n",
       "      <th>app_name</th>\n",
       "      <th>specs</th>\n",
       "      <th>developer</th>\n",
       "    </tr>\n",
       "  </thead>\n",
       "  <tbody>\n",
       "    <tr>\n",
       "      <th>0</th>\n",
       "      <td>Action</td>\n",
       "      <td>761140</td>\n",
       "      <td>Lost Summoner Kitty</td>\n",
       "      <td>Single-player</td>\n",
       "      <td>Kotoshiro</td>\n",
       "    </tr>\n",
       "    <tr>\n",
       "      <th>1</th>\n",
       "      <td>Casual</td>\n",
       "      <td>761140</td>\n",
       "      <td>Lost Summoner Kitty</td>\n",
       "      <td>Single-player</td>\n",
       "      <td>Kotoshiro</td>\n",
       "    </tr>\n",
       "    <tr>\n",
       "      <th>2</th>\n",
       "      <td>Indie</td>\n",
       "      <td>761140</td>\n",
       "      <td>Lost Summoner Kitty</td>\n",
       "      <td>Single-player</td>\n",
       "      <td>Kotoshiro</td>\n",
       "    </tr>\n",
       "    <tr>\n",
       "      <th>3</th>\n",
       "      <td>Simulation</td>\n",
       "      <td>761140</td>\n",
       "      <td>Lost Summoner Kitty</td>\n",
       "      <td>Single-player</td>\n",
       "      <td>Kotoshiro</td>\n",
       "    </tr>\n",
       "    <tr>\n",
       "      <th>4</th>\n",
       "      <td>Strategy</td>\n",
       "      <td>761140</td>\n",
       "      <td>Lost Summoner Kitty</td>\n",
       "      <td>Single-player</td>\n",
       "      <td>Kotoshiro</td>\n",
       "    </tr>\n",
       "  </tbody>\n",
       "</table>\n",
       "</div>"
      ],
      "text/plain": [
       "       genres  item_id             app_name          specs  developer\n",
       "0      Action   761140  Lost Summoner Kitty  Single-player  Kotoshiro\n",
       "1      Casual   761140  Lost Summoner Kitty  Single-player  Kotoshiro\n",
       "2       Indie   761140  Lost Summoner Kitty  Single-player  Kotoshiro\n",
       "3  Simulation   761140  Lost Summoner Kitty  Single-player  Kotoshiro\n",
       "4    Strategy   761140  Lost Summoner Kitty  Single-player  Kotoshiro"
      ]
     },
     "execution_count": 134,
     "metadata": {},
     "output_type": "execute_result"
    }
   ],
   "source": [
    "datb.head()"
   ]
  },
  {
   "cell_type": "code",
   "execution_count": 135,
   "metadata": {},
   "outputs": [],
   "source": [
    "def extract_genres_by_item_id(item_id):\n",
    "    #Primero se realiza una serie de filtros para achicar el df\n",
    "\n",
    "    #Se extrae el o los generos asociados al juego usando datb\n",
    "    genres = datb[datb['item_id'] == item_id]['genres'].tolist()\n",
    "    #Se extraen los item_id relacionados con los genereos del juego en cuestion\n",
    "    related_items1 = datb[datb['genres'].apply(lambda x: any(item in x for item in genres))]['item_id'].unique().tolist()\n",
    "    #Se extrae el o los specs asociados al juego usando datb\n",
    "    genres = datb[datb['item_id'] == item_id]['specs'].tolist()\n",
    "    #Se extraen los item_id relacionados con los specs del juego en cuestion\n",
    "    related_items2 = datb[datb['specs'].apply(lambda x: any(item in x for item in genres))]['item_id'].unique().tolist()\n",
    "    #Finalmente se sacan los item_id que aparecen en los 3\n",
    "    common_items = set(related_items1).intersection(related_items2)\n",
    "\n",
    "    #Se extrae de data final solo los item_id identificados anteriormente, se toma aquellas filas que son recomendadas \n",
    "    #y se eliminan las columnas recommend y review por ser irrelevantes luego del filtro\n",
    "    filtered_data_final = data_final[data_final['item_id'].isin(common_items)]\n",
    "    filtered_data_final = filtered_data_final[(filtered_data_final['recommend'] == True) & (filtered_data_final['review'] == 2)]\n",
    "    filtered_data_final = filtered_data_final.drop(columns=['recommend', 'review'])\n",
    "\n",
    "    # Ordenar el DataFrame por 'score' en orden descendente\n",
    "    filtered_data_final.sort_values('score', ascending=False, inplace=True)\n",
    "    # Obtener los 5 item_id con la puntuación más alta\n",
    "    top_5_items = filtered_data_final['item_id'].unique()[:5]\n",
    "    app_names = list(set(datb[datb['item_id'].isin(top_5_items)]['app_name']))\n",
    "    \n",
    "    return app_names"
   ]
  },
  {
   "cell_type": "code",
   "execution_count": 136,
   "metadata": {},
   "outputs": [
    {
     "data": {
      "text/plain": [
       "['Rust',\n",
       " 'Unturned',\n",
       " 'Counter-Strike: Global Offensive',\n",
       " 'Terraria',\n",
       " 'Left 4 Dead 2']"
      ]
     },
     "execution_count": 136,
     "metadata": {},
     "output_type": "execute_result"
    }
   ],
   "source": [
    "aux=extract_genres_by_item_id(10)\n",
    "aux"
   ]
  },
  {
   "cell_type": "code",
   "execution_count": null,
   "metadata": {},
   "outputs": [],
   "source": []
  },
  {
   "cell_type": "code",
   "execution_count": null,
   "metadata": {},
   "outputs": [],
   "source": []
  },
  {
   "cell_type": "code",
   "execution_count": null,
   "metadata": {},
   "outputs": [],
   "source": []
  }
 ],
 "metadata": {
  "kernelspec": {
   "display_name": "Python 3",
   "language": "python",
   "name": "python3"
  },
  "language_info": {
   "codemirror_mode": {
    "name": "ipython",
    "version": 3
   },
   "file_extension": ".py",
   "mimetype": "text/x-python",
   "name": "python",
   "nbconvert_exporter": "python",
   "pygments_lexer": "ipython3",
   "version": "3.11.1"
  }
 },
 "nbformat": 4,
 "nbformat_minor": 2
}
